{
 "cells": [
  {
   "cell_type": "code",
   "execution_count": 1,
   "id": "02ab81b2-33b5-41b7-8cf3-fc4d72bbf4f6",
   "metadata": {},
   "outputs": [],
   "source": [
    "import dyno"
   ]
  },
  {
   "cell_type": "code",
   "execution_count": 35,
   "id": "c00db4e9-d9a6-43ce-ba65-6b20f865e7f2",
   "metadata": {},
   "outputs": [],
   "source": [
    "from dyno.report import dsge_report"
   ]
  },
  {
   "cell_type": "code",
   "execution_count": 41,
   "id": "d57416c1-c112-4cda-8487-215a07db716f",
   "metadata": {},
   "outputs": [],
   "source": [
    "report = dsge_report(\"example1.mod\")"
   ]
  },
  {
   "cell_type": "code",
   "execution_count": 2,
   "id": "f2651998-731a-4f4f-9021-d7ef28a0869c",
   "metadata": {},
   "outputs": [],
   "source": [
    "from dyno.dynofile import DynoModel"
   ]
  },
  {
   "cell_type": "code",
   "execution_count": 48,
   "id": "68fa525e-d110-458a-8f12-40e8967741cd",
   "metadata": {},
   "outputs": [],
   "source": [
    "model = DynoModel(\"example1.dyno\")"
   ]
  },
  {
   "cell_type": "code",
   "execution_count": 49,
   "id": "c6053ac1-004a-40ea-83d4-8afe6632131a",
   "metadata": {},
   "outputs": [
    {
     "data": {
      "text/html": [
       "<h3>Model</h3>\n",
       "<ul>\n",
       "<li>name: anonymous</li>\n",
       "<li>symbols:\n",
       "    <ul>\n",
       "        <li>variables:\n",
       "            <ul>\n",
       "                <li>endogenous: r,n,k,y,i,c,w,a</li>\n",
       "                <li>exogenous: epsilon</li>\n",
       "            </ul>\n",
       "        </li>\n",
       "        <li> parameters: beta,delta,nss,eta,alpha,rho,khi</li>\n",
       "    </ul>\n",
       "</li>\n",
       "</ul>\n"
      ],
      "text/plain": [
       "<dyno.dynofile.DynoModel at 0x7e7a3ec5f9d0>"
      ]
     },
     "execution_count": 49,
     "metadata": {},
     "output_type": "execute_result"
    }
   ],
   "source": [
    "model"
   ]
  },
  {
   "cell_type": "code",
   "execution_count": 51,
   "id": "d8ee8a4b-4c0d-4c4a-bf46-bd4501783379",
   "metadata": {},
   "outputs": [],
   "source": [
    "dr = model.solve()"
   ]
  },
  {
   "cell_type": "code",
   "execution_count": 52,
   "id": "6ca5a00f-4708-478f-91a2-fc1f5e0dd0d4",
   "metadata": {},
   "outputs": [
    {
     "ename": "<class 'AttributeError'>",
     "evalue": "'RecursiveSolution' object has no attribute 'plot'",
     "output_type": "error",
     "traceback": [
      "\u001b[31m---------------------------------------------------------------------------\u001b[39m",
      "\u001b[31mAttributeError\u001b[39m                            Traceback (most recent call last)",
      "\u001b[36mCell\u001b[39m\u001b[36m \u001b[39m\u001b[32mIn[52]\u001b[39m\u001b[32m, line 1\u001b[39m\n\u001b[32m----> \u001b[39m\u001b[32m1\u001b[39m \u001b[43mdr\u001b[49m\u001b[43m.\u001b[49m\u001b[43mplot\u001b[49m\n",
      "\u001b[31mAttributeError\u001b[39m: 'RecursiveSolution' object has no attribute 'plot'"
     ]
    }
   ],
   "source": [
    "dr.plot"
   ]
  },
  {
   "cell_type": "code",
   "execution_count": 4,
   "id": "251c07e6-8e0e-4ee0-a488-67dc62ed8b27",
   "metadata": {},
   "outputs": [
    {
     "ename": "<class 'ImportError'>",
     "evalue": "cannot import name 'deterministic_solve' from 'dyno.solver' (/home/pablo/Econforge/dyno.py/src/dyno/solver.py)",
     "output_type": "error",
     "traceback": [
      "\u001b[31m---------------------------------------------------------------------------\u001b[39m",
      "\u001b[31mImportError\u001b[39m                               Traceback (most recent call last)",
      "\u001b[36mCell\u001b[39m\u001b[36m \u001b[39m\u001b[32mIn[4]\u001b[39m\u001b[32m, line 1\u001b[39m\n\u001b[32m----> \u001b[39m\u001b[32m1\u001b[39m \u001b[38;5;28;01mfrom\u001b[39;00m\u001b[38;5;250m \u001b[39m\u001b[34;01mdyno\u001b[39;00m\u001b[34;01m.\u001b[39;00m\u001b[34;01msolver\u001b[39;00m\u001b[38;5;250m \u001b[39m\u001b[38;5;28;01mimport\u001b[39;00m deterministic_solve\n",
      "\u001b[31mImportError\u001b[39m: cannot import name 'deterministic_solve' from 'dyno.solver' (/home/pablo/Econforge/dyno.py/src/dyno/solver.py)"
     ]
    }
   ],
   "source": [
    "from dyno.solver import deterministic_solve"
   ]
  },
  {
   "cell_type": "code",
   "execution_count": null,
   "id": "fa620b07-ee4f-4152-a82e-491bc59af7b5",
   "metadata": {},
   "outputs": [],
   "source": [
    "from ipywidgets import *"
   ]
  },
  {
   "cell_type": "code",
   "execution_count": null,
   "id": "3c96291e-e35f-410e-b9e2-d55d19a8a3a1",
   "metadata": {},
   "outputs": [],
   "source": [
    "from ipywidgets.widgets import *"
   ]
  },
  {
   "cell_type": "code",
   "execution_count": null,
   "id": "092d0108-1156-4369-b463-0f8b19f84c38",
   "metadata": {},
   "outputs": [],
   "source": [
    "sim = deterministic_solve(model)"
   ]
  },
  {
   "cell_type": "code",
   "execution_count": null,
   "id": "7e0b8224-f314-4c73-8261-08bb7cd98df8",
   "metadata": {},
   "outputs": [],
   "source": [
    "tab_nest = widgets.Accordion([\n",
    "    widgets.HTML(model._repr_html_()),\n",
    "    widgets.HTML(sim._repr_html_())\n",
    "])\n",
    "tab_nest.titles = ('An accordion', 'Simulation')\n",
    "tab_nest"
   ]
  },
  {
   "cell_type": "code",
   "execution_count": null,
   "id": "cb29370d-0c2f-46c1-9769-36d5e8ef6b51",
   "metadata": {},
   "outputs": [],
   "source": [
    "import xarray"
   ]
  },
  {
   "cell_type": "code",
   "execution_count": null,
   "id": "64f6c01c-397f-4947-8efa-694d5e78f2b9",
   "metadata": {},
   "outputs": [],
   "source": [
    "sim.to_xarray()"
   ]
  },
  {
   "cell_type": "code",
   "execution_count": null,
   "id": "73fdb09d-adc2-4b94-b73f-3ac2aed6381d",
   "metadata": {},
   "outputs": [],
   "source": []
  },
  {
   "cell_type": "code",
   "execution_count": null,
   "id": "6d83f36a-be38-4918-8caa-9061c0f18468",
   "metadata": {},
   "outputs": [],
   "source": [
    "from ipywidgets.embed import embed_minimal_html\n"
   ]
  },
  {
   "cell_type": "code",
   "execution_count": null,
   "id": "e89ef6cd-171d-480e-a6ae-2e221f825fe7",
   "metadata": {},
   "outputs": [],
   "source": [
    "embed_minimal_html(\"out.html\" , [tab_nest])"
   ]
  },
  {
   "cell_type": "code",
   "execution_count": null,
   "id": "eab1207c-27f6-4a28-9738-ff75dd70a3a0",
   "metadata": {},
   "outputs": [],
   "source": [
    "import altair as alt"
   ]
  },
  {
   "cell_type": "code",
   "execution_count": null,
   "id": "7e396c6c-496a-4d9f-b76e-4d4c5f301431",
   "metadata": {},
   "outputs": [],
   "source": [
    "sim['t'] = sim.index"
   ]
  },
  {
   "cell_type": "code",
   "execution_count": null,
   "id": "06de5e83-4f40-4328-843f-cc81fd1306eb",
   "metadata": {},
   "outputs": [],
   "source": [
    "import pandas\n",
    "ssim = pandas.melt(sim, id_vars=['t'])"
   ]
  },
  {
   "cell_type": "code",
   "execution_count": null,
   "id": "c1e59c8d-1913-4d95-9e35-89ced11640e8",
   "metadata": {},
   "outputs": [],
   "source": [
    "alt.Chart(ssim).mark_line().encode(\n",
    "    x = 't',\n",
    "    y =  'value',\n",
    "    color=alt.Y(alt.repeat(\"row\"), type='quantitative'),\n",
    ").properties(\n",
    "    width=200,\n",
    "    height=200\n",
    ").repeat(\n",
    "    row=ssim['variable'].unique()\n",
    ")"
   ]
  },
  {
   "cell_type": "code",
   "execution_count": null,
   "id": "b56d4b0c-f923-4047-a7b1-67e65973e673",
   "metadata": {},
   "outputs": [],
   "source": [
    "ssim"
   ]
  },
  {
   "cell_type": "code",
   "execution_count": 5,
   "id": "924e01c7-91c6-4eb0-9fd2-87623aea5815",
   "metadata": {},
   "outputs": [
    {
     "ename": "<class 'NameError'>",
     "evalue": "name 'alt' is not defined",
     "output_type": "error",
     "traceback": [
      "\u001b[31m---------------------------------------------------------------------------\u001b[39m",
      "\u001b[31mNameError\u001b[39m                                 Traceback (most recent call last)",
      "\u001b[36mCell\u001b[39m\u001b[36m \u001b[39m\u001b[32mIn[5]\u001b[39m\u001b[32m, line 1\u001b[39m\n\u001b[32m----> \u001b[39m\u001b[32m1\u001b[39m \u001b[43malt\u001b[49m.Chart(ssim).mark_line().encode(\n\u001b[32m      2\u001b[39m     x=\u001b[33m'\u001b[39m\u001b[33mt\u001b[39m\u001b[33m'\u001b[39m,\n\u001b[32m      3\u001b[39m     y=\u001b[33m'\u001b[39m\u001b[33mvalue\u001b[39m\u001b[33m'\u001b[39m,\n\u001b[32m      4\u001b[39m     color=\u001b[33m'\u001b[39m\u001b[33mvariable\u001b[39m\u001b[33m'\u001b[39m\n\u001b[32m      5\u001b[39m ).properties(\n\u001b[32m      6\u001b[39m     width=\u001b[32m180\u001b[39m,\n\u001b[32m      7\u001b[39m     height=\u001b[32m180\u001b[39m\n\u001b[32m      8\u001b[39m ).facet(\n\u001b[32m      9\u001b[39m     row=\u001b[33m'\u001b[39m\u001b[33mvariable\u001b[39m\u001b[33m'\u001b[39m\n\u001b[32m     10\u001b[39m )\n",
      "\u001b[31mNameError\u001b[39m: name 'alt' is not defined"
     ]
    }
   ],
   "source": [
    "alt.Chart(ssim).mark_line().encode(\n",
    "    x='t',\n",
    "    y='value',\n",
    "    color='variable'\n",
    ").properties(\n",
    "    width=180,\n",
    "    height=180\n",
    ").facet(\n",
    "    row='variable'\n",
    ")"
   ]
  },
  {
   "cell_type": "code",
   "execution_count": 6,
   "id": "6218c7b1-d379-43c8-b583-67e14baf4497",
   "metadata": {},
   "outputs": [],
   "source": [
    "import myst_parser"
   ]
  },
  {
   "cell_type": "code",
   "execution_count": 7,
   "id": "e97e484d-73b3-4bd6-a83f-a6e0170b38da",
   "metadata": {},
   "outputs": [
    {
     "data": {
      "text/plain": [
       "\u001b[31mSignature:\u001b[39m myst_parser.setup(app)\n",
       "\u001b[31mDocstring:\u001b[39m Initialize the [Sphinx](https://github.com/sphinx-doc/sphinx) extension.\n",
       "\u001b[31mFile:\u001b[39m      ~/Econforge/jupyterlab-dyno/.pixi/envs/default/lib/python3.13/site-packages/myst_parser/__init__.py\n",
       "\u001b[31mType:\u001b[39m      function"
      ]
     },
     "metadata": {},
     "output_type": "display_data"
    }
   ],
   "source": [
    "myst_parser.setup?"
   ]
  },
  {
   "cell_type": "code",
   "execution_count": 8,
   "id": "124e32e8-cb20-4472-b73f-7b760bcd0bcc",
   "metadata": {},
   "outputs": [],
   "source": [
    "import myst_parser.docutils_"
   ]
  },
  {
   "cell_type": "code",
   "execution_count": 9,
   "id": "12e8fda1-68e2-4bb8-98be-c8bfc2dd9333",
   "metadata": {},
   "outputs": [],
   "source": [
    "import jupyterlab_myst"
   ]
  },
  {
   "cell_type": "code",
   "execution_count": 86,
   "id": "f2e93ede-56e2-48c5-aac8-e1c58d14d578",
   "metadata": {},
   "outputs": [],
   "source": [
    "\n",
    "doc = \"\"\"\n",
    "\n",
    "# Here is a title.\n",
    "\n",
    "Here's some *text*\n",
    "\n",
    "1. a list\n",
    "\n",
    "> a quote\n",
    "\n",
    "{emphasis}`content`\n",
    "\n",
    "Can I embed formulas : $a=34$ ?\n",
    "```{sidebar} my sidebar\n",
    "content\n",
    "```\n",
    ":::{tip}\n",
    "Let's give readers a helpful hint!\n",
    ":::\n",
    "\n",
    "\"\"\"\n",
    "\n"
   ]
  },
  {
   "cell_type": "code",
   "execution_count": 87,
   "id": "d39c739a-7fc4-41ff-8611-8f469d90e0ac",
   "metadata": {},
   "outputs": [],
   "source": [
    "from docutils.core import publish_string\n",
    "from myst_parser.docutils_ import Parser\n",
    "\n",
    "output = publish_string(\n",
    "    source=doc,\n",
    "    writer_name=\"html5\",\n",
    "    settings_overrides={\n",
    "        # \"myst_enable_extensions\": [\"deflist\"],\n",
    "        \"embed_stylesheet\": True,\n",
    "    },\n",
    "    parser=Parser(),\n",
    ")"
   ]
  },
  {
   "cell_type": "code",
   "execution_count": 88,
   "id": "9c5564a7-7b35-4f0d-8e0e-2afb3db7b85b",
   "metadata": {},
   "outputs": [],
   "source": [
    "html = HTML(output.decode(\"utf-8\"))"
   ]
  },
  {
   "cell_type": "code",
   "execution_count": 89,
   "id": "91377fe7-1331-4b5f-a132-0a5b9f238cb5",
   "metadata": {},
   "outputs": [
    {
     "data": {
      "application/vnd.jupyter.widget-view+json": {
       "model_id": "dea9871a261e47ba96a5ca4c6173cab9",
       "version_major": 2,
       "version_minor": 0
      },
      "text/plain": [
       "HTML(value='<!DOCTYPE html>\\n<html xmlns=\"http://www.w3.org/1999/xhtml\" xml:lang=\"en\" lang=\"en\">\\n<head>\\n<met…"
      ]
     },
     "execution_count": 89,
     "metadata": {},
     "output_type": "execute_result"
    }
   ],
   "source": [
    "html"
   ]
  },
  {
   "cell_type": "code",
   "execution_count": 63,
   "id": "bb2d2279-5c67-435b-b650-0855deea5365",
   "metadata": {},
   "outputs": [
    {
     "ename": "<class 'TypeError'>",
     "evalue": "write() argument must be str, not bytes",
     "output_type": "error",
     "traceback": [
      "\u001b[31m---------------------------------------------------------------------------\u001b[39m",
      "\u001b[31mTypeError\u001b[39m                                 Traceback (most recent call last)",
      "\u001b[36mCell\u001b[39m\u001b[36m \u001b[39m\u001b[32mIn[63]\u001b[39m\u001b[32m, line 2\u001b[39m\n\u001b[32m      1\u001b[39m \u001b[38;5;28;01mwith\u001b[39;00m \u001b[38;5;28mopen\u001b[39m(\u001b[33m\"\u001b[39m\u001b[33mout.html\u001b[39m\u001b[33m\"\u001b[39m) \u001b[38;5;28;01mas\u001b[39;00m f:\n\u001b[32m----> \u001b[39m\u001b[32m2\u001b[39m     \u001b[43mf\u001b[49m\u001b[43m.\u001b[49m\u001b[43mwrite\u001b[49m\u001b[43m(\u001b[49m\u001b[43moutput\u001b[49m\u001b[43m)\u001b[49m\n",
      "\u001b[31mTypeError\u001b[39m: write() argument must be str, not bytes"
     ]
    }
   ],
   "source": [
    "with open(\"out.html\") as f:\n",
    "    f.write(output)"
   ]
  },
  {
   "cell_type": "code",
   "execution_count": null,
   "id": "9f7956b2-bd69-4761-a4c7-921b820c7024",
   "metadata": {},
   "outputs": [],
   "source": []
  },
  {
   "cell_type": "code",
   "execution_count": null,
   "id": "3ff310d1-72af-4762-9589-44d001371ca0",
   "metadata": {},
   "outputs": [],
   "source": []
  },
  {
   "cell_type": "code",
   "execution_count": 94,
   "id": "41c788bc-9939-4720-8277-361fa1dc8940",
   "metadata": {},
   "outputs": [],
   "source": [
    "from ipywidgets import Accordion, HTML\n",
    "\n",
    "acc = Accordion(children=[\n",
    "    HTML(\"JI\"),\n",
    "    HTML(\"JI\")\n",
    "])\n",
    "\n",
    "\n"
   ]
  },
  {
   "cell_type": "code",
   "execution_count": 95,
   "id": "418c5cc5-9b69-4fdd-8a7a-747f5288761e",
   "metadata": {},
   "outputs": [],
   "source": [
    "from ipywidgets.embed import embed_minimal_html\n",
    "\n",
    "embed_minimal_html('export.html', views=[acc], title='Widgets export')"
   ]
  },
  {
   "cell_type": "code",
   "execution_count": null,
   "id": "5cd45813-a18b-461f-9a76-9cc9b47096ff",
   "metadata": {},
   "outputs": [],
   "source": []
  },
  {
   "cell_type": "code",
   "execution_count": null,
   "id": "4fe195ea-c13c-4fa2-a563-fc48b861f9a5",
   "metadata": {},
   "outputs": [],
   "source": []
  },
  {
   "cell_type": "code",
   "execution_count": 7,
   "id": "0b4742fe-8fbf-4a62-8fb0-8925f16347c6",
   "metadata": {},
   "outputs": [],
   "source": [
    "class HTML:\n",
    "    def __init__(self, data):\n",
    "        self.data = data\n",
    "\n",
    "    def _repr_html_(self):\n",
    "        return self.data\n",
    "\n",
    "doc = \"\"\"\n",
    "<h1>\n",
    "This is basic html.\n",
    "</h1>\n",
    "\"\"\"\n",
    "\n",
    "md = \"\"\"\n",
    "# This is basic markdown\n",
    "\n",
    "\n",
    "But there aren't many nice options.\n",
    "\n",
    "$a = 4$.\n",
    "\n",
    "\n",
    "\"\"\"\n",
    "\n",
    "import mistune\n",
    "\n",
    "html = HTML(mistune.html(md))\n",
    "\n",
    "\n",
    "from markdown_it import MarkdownIt\n",
    "from mdit_py_plugins.front_matter import front_matter_plugin\n",
    "from mdit_py_plugins.footnote import footnote_plugin\n",
    "\n",
    "md = \"\"\"\n",
    "---\n",
    "title: 1\n",
    "---\n",
    "\n",
    "# Is that meant to be a title ?\n",
    "\n",
    "a | b\n",
    "- | -\n",
    "1 | 2\n",
    "\n",
    "```\n",
    "Sample text here...\n",
    "```\n",
    "::: {.note}\n",
    "\n",
    "Can I make a note here ?\n",
    "\n",
    ":::\n",
    "\n",
    "A footnote [^1]\n",
    "\n",
    "[^1]: some details\n",
    "\"\"\"\n",
    "\n",
    "#html = HTML(html_text)\n",
    "\n",
    "\n",
    "from IPython.display import display, Markdown, Latex\n",
    "\n",
    "\n",
    "html = Markdown(md)"
   ]
  },
  {
   "cell_type": "code",
   "execution_count": 8,
   "id": "e93cb822-a1f4-4376-89de-3334fe23917c",
   "metadata": {},
   "outputs": [
    {
     "data": {
      "text/markdown": [
       "\n",
       "---\n",
       "title: 1\n",
       "---\n",
       "\n",
       "# Is that meant to be a title ?\n",
       "\n",
       "a | b\n",
       "- | -\n",
       "1 | 2\n",
       "\n",
       "```\n",
       "Sample text here...\n",
       "```\n",
       "::: {.note}\n",
       "\n",
       "Can I make a note here ?\n",
       "\n",
       ":::\n",
       "\n",
       "A footnote [^1]\n",
       "\n",
       "[^1]: some details\n"
      ],
      "text/plain": [
       "<IPython.core.display.Markdown object>"
      ]
     },
     "execution_count": 8,
     "metadata": {},
     "output_type": "execute_result"
    }
   ],
   "source": [
    "html"
   ]
  },
  {
   "cell_type": "markdown",
   "id": "580482c9-9de1-4714-9883-a5a24ed24bae",
   "metadata": {},
   "source": [
    "---\n",
    "title: 1\n",
    "---\n",
    "\n",
    "# Is that meant to be a title ?\n",
    "\n",
    "a | b\n",
    "- | -\n",
    "1 | 2\n",
    "\n",
    "```\n",
    "Sample text here...\n",
    "```\n",
    "::: {.note}\n",
    "\n",
    "Can I make a note here ?\n",
    "\n",
    ":::\n",
    "\n",
    "A footnote [^1]\n",
    "\n",
    "[^1]: some details"
   ]
  },
  {
   "cell_type": "code",
   "execution_count": null,
   "id": "b67ccab4-f7c3-4cb4-a880-ffed590a1658",
   "metadata": {},
   "outputs": [],
   "source": []
  }
 ],
 "metadata": {
  "kernelspec": {
   "display_name": "Python . (XPython)",
   "language": "python",
   "name": "xpython"
  },
  "language_info": {
   "file_extension": ".py",
   "mimetype": "text/x-python",
   "name": "python",
   "version": "3.13.7"
  }
 },
 "nbformat": 4,
 "nbformat_minor": 5
}
