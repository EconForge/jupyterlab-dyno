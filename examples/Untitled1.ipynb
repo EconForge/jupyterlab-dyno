{
 "cells": [
  {
   "cell_type": "code",
   "execution_count": 3,
   "id": "b00db412-890e-46a3-b73d-d70569486010",
   "metadata": {},
   "outputs": [],
   "source": [
    "txt = \"\"\"\n",
    "# This is markdown, brother.\n",
    "\n",
    "This is some text.\n",
    "\"\"\""
   ]
  },
  {
   "cell_type": "code",
   "execution_count": 23,
   "id": "9b1c8b73-a69e-4b50-9f3e-533b4d440e8d",
   "metadata": {},
   "outputs": [],
   "source": [
    "class Report:\n",
    "    \n",
    "    def __init__(self, txt):\n",
    "        self.txt = txt\n",
    "    def _repr_markdown_(self):\n",
    "        return f\"{self.txt}\"\n",
    "    def _repr_html_(self):\n",
    "        return f\"<pre>{self.txt}</pre>\""
   ]
  },
  {
   "cell_type": "code",
   "execution_count": 24,
   "id": "eb985f07-5b9e-4e07-aa19-3f47e394fdaa",
   "metadata": {},
   "outputs": [
    {
     "data": {
      "text/html": [
       "<pre>\n",
       "# This is markdown, brother.\n",
       "\n",
       "This is some text.\n",
       "</pre>"
      ],
      "text/markdown": [
       "\n",
       "# This is markdown, brother.\n",
       "\n",
       "This is some text.\n"
      ],
      "text/plain": [
       "<__main__.Report at 0x7ba12bccfcb0>"
      ]
     },
     "execution_count": 24,
     "metadata": {},
     "output_type": "execute_result"
    }
   ],
   "source": [
    "Report(txt)"
   ]
  },
  {
   "cell_type": "code",
   "execution_count": 16,
   "id": "c2d213a7-cbd7-47b0-80f2-68be72db0a62",
   "metadata": {},
   "outputs": [],
   "source": [
    "from IPython.display import Markdown"
   ]
  },
  {
   "cell_type": "code",
   "execution_count": 17,
   "id": "44d67b29-2338-4c1a-9ea8-a5a7da637636",
   "metadata": {},
   "outputs": [],
   "source": [
    "m = Markdown(txt)"
   ]
  },
  {
   "cell_type": "code",
   "execution_count": 18,
   "id": "15cd5210-b7b5-477e-8eb7-017642245740",
   "metadata": {},
   "outputs": [
    {
     "data": {
      "text/markdown": [
       "\n",
       "# This is markdown, brother.\n",
       "\n",
       "This is some text.\n"
      ],
      "text/plain": [
       "<IPython.core.display.Markdown object>"
      ]
     },
     "execution_count": 18,
     "metadata": {},
     "output_type": "execute_result"
    }
   ],
   "source": [
    "m"
   ]
  },
  {
   "cell_type": "code",
   "execution_count": 20,
   "id": "d383b6cc-dafd-41bb-bf42-13d56fc2315e",
   "metadata": {},
   "outputs": [
    {
     "data": {
      "text/plain": [
       "'\\n# This is markdown, brother.\\n\\nThis is some text.\\n'"
      ]
     },
     "execution_count": 20,
     "metadata": {},
     "output_type": "execute_result"
    }
   ],
   "source": [
    "m._repr_markdown_()"
   ]
  },
  {
   "cell_type": "code",
   "execution_count": null,
   "id": "d744242b-799d-4a88-ae0c-70a5d7f19b42",
   "metadata": {},
   "outputs": [],
   "source": [
    "m._"
   ]
  },
  {
   "cell_type": "code",
   "execution_count": null,
   "id": "0705c31e-5aee-4c6e-905b-b4f13494aee6",
   "metadata": {},
   "outputs": [],
   "source": []
  }
 ],
 "metadata": {
  "kernelspec": {
   "display_name": "Python . (XPython)",
   "language": "python",
   "name": "xpython"
  },
  "language_info": {
   "file_extension": ".py",
   "mimetype": "text/x-python",
   "name": "python",
   "version": "3.13.7"
  }
 },
 "nbformat": 4,
 "nbformat_minor": 5
}
